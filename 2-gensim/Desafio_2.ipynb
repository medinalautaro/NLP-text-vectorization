{
 "cells": [
  {
   "cell_type": "code",
   "execution_count": 2,
   "id": "157d40bc",
   "metadata": {},
   "outputs": [],
   "source": [
    "import pandas as pd\n",
    "import matplotlib.pyplot as plt\n",
    "import seaborn as sns\n",
    "\n",
    "import multiprocessing\n",
    "from gensim.models import Word2Vec\n",
    "import pandas as pd"
   ]
  },
  {
   "cell_type": "code",
   "execution_count": 3,
   "id": "33f7bbf0",
   "metadata": {},
   "outputs": [
    {
     "name": "stderr",
     "output_type": "stream",
     "text": [
      "C:\\Users\\laum_\\AppData\\Local\\Temp\\ipykernel_7828\\2917244481.py:1: ParserWarning: Falling back to the 'python' engine because the 'c' engine does not support regex separators (separators > 1 char and different from '\\s+' are interpreted as regex); you can avoid this warning by specifying engine='python'.\n",
      "  df = pd.read_csv(r'E:\\importante\\Master\\Procesamiento lenguaje natural\\tareas\\TP1\\NLP-text-vectorization\\2-gensim\\bruno-mars.txt', sep='/n', header=None)\n"
     ]
    },
    {
     "data": {
      "text/html": [
       "<div>\n",
       "<style scoped>\n",
       "    .dataframe tbody tr th:only-of-type {\n",
       "        vertical-align: middle;\n",
       "    }\n",
       "\n",
       "    .dataframe tbody tr th {\n",
       "        vertical-align: top;\n",
       "    }\n",
       "\n",
       "    .dataframe thead th {\n",
       "        text-align: right;\n",
       "    }\n",
       "</style>\n",
       "<table border=\"1\" class=\"dataframe\">\n",
       "  <thead>\n",
       "    <tr style=\"text-align: right;\">\n",
       "      <th></th>\n",
       "      <th>0</th>\n",
       "    </tr>\n",
       "  </thead>\n",
       "  <tbody>\n",
       "    <tr>\n",
       "      <th>0</th>\n",
       "      <td>Now greetings to the world! Standing at this l...</td>\n",
       "    </tr>\n",
       "    <tr>\n",
       "      <th>1</th>\n",
       "      <td>Whiskey coming through my pores,</td>\n",
       "    </tr>\n",
       "    <tr>\n",
       "      <th>2</th>\n",
       "      <td>Feeling like I run this whole block.</td>\n",
       "    </tr>\n",
       "    <tr>\n",
       "      <th>3</th>\n",
       "      <td>Lotto tickets cheap beer</td>\n",
       "    </tr>\n",
       "    <tr>\n",
       "      <th>4</th>\n",
       "      <td>That's why you can catch me here,</td>\n",
       "    </tr>\n",
       "  </tbody>\n",
       "</table>\n",
       "</div>"
      ],
      "text/plain": [
       "                                                   0\n",
       "0  Now greetings to the world! Standing at this l...\n",
       "1                   Whiskey coming through my pores,\n",
       "2               Feeling like I run this whole block.\n",
       "3                           Lotto tickets cheap beer\n",
       "4                  That's why you can catch me here,"
      ]
     },
     "execution_count": 3,
     "metadata": {},
     "output_type": "execute_result"
    }
   ],
   "source": [
    "df = pd.read_csv(r'E:\\importante\\Master\\Procesamiento lenguaje natural\\tareas\\TP1\\NLP-text-vectorization\\2-gensim\\bruno-mars.txt', sep='/n', header=None)\n",
    "df.head()"
   ]
  },
  {
   "cell_type": "code",
   "execution_count": 4,
   "id": "ef5e0a01",
   "metadata": {},
   "outputs": [
    {
     "name": "stdout",
     "output_type": "stream",
     "text": [
      "Cantidad de documentos: 3270\n"
     ]
    }
   ],
   "source": [
    "print(\"Cantidad de documentos:\", df.shape[0])"
   ]
  },
  {
   "cell_type": "code",
   "execution_count": 5,
   "id": "43c1e084",
   "metadata": {},
   "outputs": [
    {
     "name": "stdout",
     "output_type": "stream",
     "text": [
      "WARNING:tensorflow:From e:\\importante\\Master\\Procesamiento lenguaje natural\\tareas\\TP1\\NLP-text-vectorization\\.venv\\Lib\\site-packages\\keras\\src\\losses.py:2976: The name tf.losses.sparse_softmax_cross_entropy is deprecated. Please use tf.compat.v1.losses.sparse_softmax_cross_entropy instead.\n",
      "\n",
      "2.15.0\n"
     ]
    }
   ],
   "source": [
    "import tensorflow as tf\n",
    "print(tf.__version__)"
   ]
  },
  {
   "cell_type": "code",
   "execution_count": 6,
   "id": "cca3fb2e",
   "metadata": {},
   "outputs": [],
   "source": [
    "from keras.preprocessing.text import text_to_word_sequence\n",
    "\n",
    "sentence_tokens = []\n",
    "# Recorrer todas las filas y transformar las oraciones\n",
    "# en una secuencia de palabras (esto podría realizarse con NLTK o spaCy también)\n",
    "for _, row in df[:None].iterrows():\n",
    "    sentence_tokens.append(text_to_word_sequence(row[0]))"
   ]
  },
  {
   "cell_type": "code",
   "execution_count": 7,
   "id": "65865842",
   "metadata": {},
   "outputs": [
    {
     "data": {
      "text/plain": [
       "[['now',\n",
       "  'greetings',\n",
       "  'to',\n",
       "  'the',\n",
       "  'world',\n",
       "  'standing',\n",
       "  'at',\n",
       "  'this',\n",
       "  'liquor',\n",
       "  'store'],\n",
       " ['whiskey', 'coming', 'through', 'my', 'pores']]"
      ]
     },
     "execution_count": 7,
     "metadata": {},
     "output_type": "execute_result"
    }
   ],
   "source": [
    "# Demos un vistazo\n",
    "sentence_tokens[:2]"
   ]
  },
  {
   "cell_type": "code",
   "execution_count": 8,
   "id": "e2cc81ce",
   "metadata": {},
   "outputs": [],
   "source": [
    "from gensim.models.callbacks import CallbackAny2Vec\n",
    "# Durante el entrenamiento gensim por defecto no informa el \"loss\" en cada época\n",
    "# Sobrecargamos el callback para poder tener esta información\n",
    "class callback(CallbackAny2Vec):\n",
    "    \"\"\"\n",
    "    Callback to print loss after each epoch\n",
    "    \"\"\"\n",
    "    def __init__(self):\n",
    "        self.epoch = 0\n",
    "\n",
    "    def on_epoch_end(self, model):\n",
    "        loss = model.get_latest_training_loss()\n",
    "        if self.epoch == 0:\n",
    "            print('Loss after epoch {}: {}'.format(self.epoch, loss))\n",
    "        else:\n",
    "            print('Loss after epoch {}: {}'.format(self.epoch, loss- self.loss_previous_step))\n",
    "        self.epoch += 1\n",
    "        self.loss_previous_step = loss"
   ]
  },
  {
   "cell_type": "code",
   "execution_count": 9,
   "id": "13a13dee",
   "metadata": {},
   "outputs": [],
   "source": [
    "# Crearmos el modelo generador de vectores\n",
    "# En este caso utilizaremos la estructura modelo Skipgram\n",
    "w2v_model = Word2Vec(min_count=5,    # frecuencia mínima de palabra para incluirla en el vocabulario\n",
    "                     window=2,       # cant de palabras antes y desp de la predicha\n",
    "                     vector_size=300,       # dimensionalidad de los vectores \n",
    "                     negative=20,    # cantidad de negative samples... 0 es no se usa\n",
    "                     workers=1,      # si tienen más cores pueden cambiar este valor\n",
    "                     sg=1)           # modelo 0:CBOW  1:skipgram"
   ]
  },
  {
   "cell_type": "code",
   "execution_count": 10,
   "id": "3c51fc88",
   "metadata": {},
   "outputs": [],
   "source": [
    "# Obtener el vocabulario con los tokens\n",
    "w2v_model.build_vocab(sentence_tokens)"
   ]
  },
  {
   "cell_type": "code",
   "execution_count": 11,
   "id": "5ace1d7c",
   "metadata": {},
   "outputs": [
    {
     "name": "stdout",
     "output_type": "stream",
     "text": [
      "Loss after epoch 0: 221229.265625\n",
      "Loss after epoch 1: 143823.140625\n",
      "Loss after epoch 2: 141473.21875\n",
      "Loss after epoch 3: 145537.5\n",
      "Loss after epoch 4: 141571.0625\n",
      "Loss after epoch 5: 136788.8125\n",
      "Loss after epoch 6: 128076.0\n",
      "Loss after epoch 7: 110052.25\n",
      "Loss after epoch 8: 106101.75\n",
      "Loss after epoch 9: 104805.375\n",
      "Loss after epoch 10: 101826.25\n",
      "Loss after epoch 11: 99709.875\n",
      "Loss after epoch 12: 98406.375\n",
      "Loss after epoch 13: 96169.375\n",
      "Loss after epoch 14: 95177.25\n",
      "Loss after epoch 15: 94200.0\n",
      "Loss after epoch 16: 93035.625\n",
      "Loss after epoch 17: 88440.875\n",
      "Loss after epoch 18: 84515.75\n",
      "Loss after epoch 19: 83007.75\n"
     ]
    },
    {
     "data": {
      "text/plain": [
       "(328281, 538000)"
      ]
     },
     "execution_count": 11,
     "metadata": {},
     "output_type": "execute_result"
    }
   ],
   "source": [
    "# Entrenamos el modelo generador de vectores\n",
    "# Utilizamos nuestro callback\n",
    "w2v_model.train(sentence_tokens,\n",
    "                 total_examples=w2v_model.corpus_count,\n",
    "                 epochs=20,\n",
    "                 compute_loss = True,\n",
    "                 callbacks=[callback()]\n",
    "                 )"
   ]
  },
  {
   "cell_type": "code",
   "execution_count": 12,
   "id": "838733e6",
   "metadata": {},
   "outputs": [
    {
     "data": {
      "text/plain": [
       "[('gorillas', 0.6890413165092468),\n",
       " ('madly', 0.6688576340675354),\n",
       " ('faith', 0.6490115523338318),\n",
       " ('promise', 0.6410069465637207),\n",
       " ('makes', 0.6313118934631348),\n",
       " ('yes', 0.6311607956886292),\n",
       " ('had', 0.6278324723243713),\n",
       " ('making', 0.6214283108711243),\n",
       " ('things', 0.6207209825515747),\n",
       " ('wanted', 0.6192373037338257)]"
      ]
     },
     "execution_count": 12,
     "metadata": {},
     "output_type": "execute_result"
    }
   ],
   "source": [
    "w2v_model.wv.most_similar(positive=[\"love\"], topn=10)"
   ]
  },
  {
   "cell_type": "code",
   "execution_count": 13,
   "id": "d9417f83",
   "metadata": {},
   "outputs": [
    {
     "data": {
      "text/plain": [
       "[('karat', 0.9777292013168335),\n",
       " ('four', 0.9299569725990295),\n",
       " ('twenty', 0.913456916809082),\n",
       " ('air', 0.8786908984184265),\n",
       " ('nude', 0.7945184707641602),\n",
       " ('ohhh', 0.7635891437530518),\n",
       " ('strawberry', 0.7512890100479126),\n",
       " ('singing', 0.7327882051467896),\n",
       " ('voices', 0.7247868776321411),\n",
       " ('toe', 0.7244638204574585)]"
      ]
     },
     "execution_count": 13,
     "metadata": {},
     "output_type": "execute_result"
    }
   ],
   "source": [
    "w2v_model.wv.most_similar(positive=[\"magic\"], topn=10)"
   ]
  },
  {
   "cell_type": "code",
   "execution_count": 14,
   "id": "9d3d9e56",
   "metadata": {},
   "outputs": [
    {
     "data": {
      "text/plain": [
       "[('own', 0.8130840063095093),\n",
       " ('smile', 0.7870734333992004),\n",
       " ('music', 0.7815853953361511),\n",
       " ('dance', 0.7321241497993469),\n",
       " ('might', 0.7285992503166199),\n",
       " ('gimme', 0.7221306562423706),\n",
       " ('mess', 0.6949920058250427),\n",
       " ('sure', 0.6894083619117737),\n",
       " ('make', 0.6875020861625671),\n",
       " ('car', 0.6837464570999146)]"
      ]
     },
     "execution_count": 14,
     "metadata": {},
     "output_type": "execute_result"
    }
   ],
   "source": [
    "w2v_model.wv.most_similar(positive=[\"money\"], topn=10)"
   ]
  },
  {
   "cell_type": "code",
   "execution_count": 15,
   "id": "6058dd3f",
   "metadata": {},
   "outputs": [
    {
     "name": "stdout",
     "output_type": "stream",
     "text": [
      "[ 0.33832002 -0.02793505  0.29605755  0.10643134  0.11928408  0.16385105\n",
      "  0.37209952  0.01606201 -0.03164533 -0.06848458  0.16155653  0.05835926\n",
      " -0.17533244  0.0295419  -0.10929884  0.38732535  0.03078085 -0.07089821\n",
      " -0.17165694 -0.18333575 -0.17624669  0.0379191  -0.06422986  0.07858153\n",
      " -0.18162373 -0.07019068 -0.03589644 -0.22576256 -0.06516281  0.10216952\n",
      "  0.20046917 -0.43042082  0.15854418  0.15450338  0.2770302   0.01694411\n",
      " -0.03515081 -0.0891881  -0.11370579 -0.04127058 -0.01392182 -0.40231317\n",
      "  0.13243765  0.24570216 -0.04556881  0.05075917  0.06710969 -0.28652456\n",
      " -0.42219287  0.15872    -0.05366286 -0.00973671 -0.0092794   0.25798017\n",
      " -0.158353    0.16494407 -0.20379779 -0.13509768  0.05504715  0.10340629\n",
      " -0.2920578   0.29990807 -0.00836211  0.10011449 -0.1760401  -0.05962789\n",
      " -0.02685345  0.16981716  0.27211127 -0.19739908  0.01437878 -0.10890414\n",
      "  0.11357526 -0.11681451  0.0493796   0.04619116  0.16499355 -0.05346693\n",
      " -0.06064418  0.42722815 -0.01494612 -0.6051871  -0.16241582  0.16497888\n",
      " -0.04880009 -0.10752745 -0.08243988  0.01060993  0.17165585  0.11039961\n",
      "  0.24106237 -0.0760679   0.07460962  0.09720348  0.31410354  0.34562933\n",
      "  0.15519682  0.13202597  0.2234838  -0.13191308 -0.12111238 -0.06650005\n",
      "  0.18855235  0.27780277 -0.0871551  -0.27587986  0.19913009 -0.192841\n",
      "  0.17672922  0.0258468  -0.00607605 -0.26667377  0.02813802  0.08546749\n",
      "  0.03343455  0.07381286  0.32088846 -0.33588713  0.05360601 -0.01498206\n",
      "  0.10306773  0.31136495  0.2719939  -0.05263632 -0.14714102  0.3455176\n",
      " -0.18735987 -0.23433778  0.10992739  0.15535386  0.0832266  -0.17325573\n",
      "  0.06069303 -0.15101239  0.15972236  0.261341   -0.18224809  0.03604519\n",
      " -0.25397557 -0.507586   -0.21209602 -0.21068609  0.13695809 -0.22176963\n",
      "  0.12006816  0.03993284 -0.16770993 -0.12979516  0.08198944  0.15277998\n",
      " -0.0017202  -0.3034386  -0.23647805  0.04978715  0.15734333  0.03325184\n",
      " -0.21433596 -0.22709712  0.26557368  0.2883389   0.07801877 -0.07653722\n",
      "  0.29395685  0.16975443  0.26112798 -0.12907808 -0.08537185  0.22694908\n",
      "  0.1599178   0.21294224 -0.00297679  0.12159868  0.33676422  0.18749574\n",
      " -0.21148293  0.10935374 -0.35583317 -0.10504938  0.0265907   0.15783769\n",
      "  0.19662173 -0.08238311 -0.08952802 -0.04830166  0.16271104  0.12996472\n",
      " -0.12459939  0.28724     0.01518135  0.1557526   0.02383151  0.09832464\n",
      " -0.01282429  0.00738376 -0.11261281 -0.38787106  0.37377524 -0.06463432\n",
      "  0.17460476 -0.11902591  0.06364938 -0.15849899 -0.2868922   0.15851186\n",
      " -0.18651085 -0.17253727 -0.11455745 -0.00848267 -0.08006085 -0.31279665\n",
      "  0.01679888  0.29307017 -0.33620515  0.28671178  0.04066835 -0.27012342\n",
      " -0.03213732  0.02308471 -0.24893366 -0.1384547  -0.03707075 -0.15460244\n",
      " -0.07801272 -0.2924764  -0.2517122   0.02569132 -0.18176368  0.00500848\n",
      " -0.02033116 -0.03213547  0.08359644  0.0436909  -0.02051425  0.39026374\n",
      " -0.10975861 -0.13790819  0.02273848  0.18273835 -0.40417954 -0.04065914\n",
      "  0.04210139  0.05464897  0.04528226 -0.06758863 -0.02843573 -0.13345926\n",
      "  0.28592032  0.03257011  0.07727664 -0.11911201  0.33404976  0.05654099\n",
      " -0.24669263 -0.25995135 -0.47591782  0.07327703  0.3874106   0.08658376\n",
      " -0.00077072 -0.01921483 -0.0510923   0.09749188 -0.1104712   0.08924896\n",
      " -0.3275912  -0.06503592  0.0926148   0.01333096 -0.50045973 -0.09994377\n",
      " -0.11356395  0.299457    0.3389623  -0.29521424  0.23573425 -0.10238432\n",
      "  0.12833114 -0.19378933 -0.25379637  0.10285002 -0.158344   -0.48525408\n",
      " -0.1366681   0.02018348  0.11389827  0.01540004 -0.3166618  -0.09774455\n",
      " -0.01815446 -0.05507302  0.09923448  0.33596045  0.10552887  0.02884742\n",
      " -0.10184208 -0.06550982 -0.11784134 -0.40045834  0.3761817   0.03311079]\n"
     ]
    }
   ],
   "source": [
    "# el método `get_vector` permite obtener los vectores:\n",
    "vector_love = w2v_model.wv.get_vector(\"love\")\n",
    "print(vector_love)"
   ]
  },
  {
   "cell_type": "code",
   "execution_count": 16,
   "id": "3f95793f",
   "metadata": {},
   "outputs": [
    {
     "data": {
      "text/plain": [
       "[('love', 1.0),\n",
       " ('gorillas', 0.6890413165092468),\n",
       " ('madly', 0.6688576340675354),\n",
       " ('faith', 0.6490115523338318),\n",
       " ('promise', 0.6410068869590759),\n",
       " ('makes', 0.6313118934631348),\n",
       " ('yes', 0.6311607956886292),\n",
       " ('had', 0.6278324127197266),\n",
       " ('making', 0.6214283108711243),\n",
       " ('things', 0.6207209825515747)]"
      ]
     },
     "execution_count": 16,
     "metadata": {},
     "output_type": "execute_result"
    }
   ],
   "source": [
    "# el método `most_similar` también permite comparar a partir de vectores\n",
    "w2v_model.wv.most_similar(vector_love)"
   ]
  },
  {
   "cell_type": "markdown",
   "id": "6d0c960d",
   "metadata": {},
   "source": [
    "Hay relaciones fuertes que estan formadas por canciones particules, la cancion \"gorilla\" de bruno mars es la culpable de que love esta tan relacionada a la palabra \"gorillas\", otras relaciones tiene un mayor sentido en terminons generales, como \"madly\", \"making\" y \"faith\". Con esto podemos ver como si bien los resultados nos sirven parara construir relaciones en general, se ven altamente afectados por inclinaciones particulares de los datos de entrenamiento."
   ]
  },
  {
   "cell_type": "code",
   "execution_count": 17,
   "id": "f79f1637",
   "metadata": {},
   "outputs": [],
   "source": [
    "from sklearn.decomposition import IncrementalPCA    \n",
    "from sklearn.manifold import TSNE                   \n",
    "import numpy as np                                  \n",
    "\n",
    "def reduce_dimensions(model, num_dimensions = 2 ):\n",
    "     \n",
    "    vectors = np.asarray(model.wv.vectors)\n",
    "    labels = np.asarray(model.wv.index_to_key)  \n",
    "\n",
    "    tsne = TSNE(n_components=num_dimensions, random_state=0)\n",
    "    vectors = tsne.fit_transform(vectors)\n",
    "\n",
    "    return vectors, labels"
   ]
  },
  {
   "cell_type": "code",
   "execution_count": 18,
   "id": "348f6266",
   "metadata": {},
   "outputs": [
    {
     "data": {
      "application/vnd.plotly.v1+json": {
       "config": {
        "plotlyServerURL": "https://plot.ly"
       },
       "data": [
        {
         "hovertemplate": "x=%{x}<br>y=%{y}<br>text=%{text}<extra></extra>",
         "legendgroup": "",
         "marker": {
          "color": "#636efa",
          "symbol": "circle"
         },
         "mode": "markers+text",
         "name": "",
         "orientation": "v",
         "showlegend": false,
         "text": [
          "you",
          "i",
          "the",
          "me",
          "it",
          "to",
          "oh",
          "my",
          "and",
          "a",
          "for",
          "yeah",
          "in",
          "on",
          "so",
          "up",
          "what",
          "all",
          "i'm",
          "like",
          "your",
          "that",
          "got",
          "don't",
          "no",
          "know",
          "just",
          "we",
          "her",
          "is",
          "do",
          "baby",
          "be",
          "girl",
          "but",
          "she",
          "it's",
          "this",
          "when",
          "you're",
          "if",
          "of",
          "'cause",
          "go",
          "take",
          "now",
          "can",
          "with",
          "out",
          "are",
          "love",
          "that's",
          "way",
          "get",
          "see",
          "make",
          "say",
          "i'll",
          "time",
          "here",
          "too",
          "one",
          "tell",
          "long",
          "can't",
          "feel",
          "come",
          "night",
          "ooh",
          "wanna",
          "never",
          "been",
          "que",
          "show",
          "down",
          "at",
          "better",
          "gimme",
          "where",
          "more",
          "want",
          "back",
          "only",
          "look",
          "right",
          "uh",
          "give",
          "run",
          "ain't",
          "there",
          "we're",
          "again",
          "ah",
          "estoy",
          "gonna",
          "oo",
          "they",
          "cause",
          "every",
          "how",
          "have",
          "tan",
          "why",
          "was",
          "while",
          "our",
          "let",
          "looking",
          "money",
          "today",
          "es",
          "day",
          "thing",
          "will",
          "could",
          "not",
          "ya",
          "straight",
          "need",
          "good",
          "put",
          "home",
          "fire",
          "girls",
          "won't",
          "watch",
          "there's",
          "eyes",
          "did",
          "leave",
          "hey",
          "think",
          "some",
          "she's",
          "let's",
          "world",
          "would",
          "turn",
          "dance",
          "smile",
          "you'll",
          "i've",
          "i'd",
          "try",
          "tonight",
          "gotta",
          "wait",
          "us",
          "body",
          "before",
          "knows",
          "believe",
          "perdiendo",
          "feels",
          "new",
          "whole",
          "find",
          "lonely",
          "through",
          "little",
          "mind",
          "difícil",
          "hard",
          "stay",
          "ever",
          "uptown",
          "trying",
          "always",
          "off",
          "funk",
          "yo",
          "lucky",
          "pain",
          "esta",
          "same",
          "mi",
          "estamos",
          "them",
          "life",
          "tomorrow",
          "keep",
          "change",
          "around",
          "alright",
          "away",
          "slow",
          "heart",
          "man",
          "y",
          "estás",
          "ok",
          "mirror",
          "lights",
          "de",
          "pero",
          "place",
          "kiss",
          "runaway",
          "head",
          "then"
         ],
         "type": "scatter",
         "x": {
          "bdata": "SJuKQZIhkEGeqTq/06faQBhxvEBJdxdAjgDYQYjQ/MBEijLA5xgXQVtmk8ETRPQ/Pc8rwRidL8GMDZnA/MjvwEJbsUHER4rAeG95wbdBnUGoHfHA1IEdQcaVOkE5YZ5BtWaoQU8nlkFpkm5B55gxQaeRKUGCBcTA2mWsQGs2o0E21iVBXXKaQNw5iEEpY11AMAu6QNqmK0B0MYhBNK3bQXz2qUG7Y03B4e7SQWgtmEAMS2/AmuWSQeMBqUEwzsVAQU1twcxd2EE6jo9BvenCQccaIj4vt/nAxMGEQTwuuUE1qcRBWPcbQfPpA8BTXbe9tnCQwNQNocE2AqpBVrpFwPfcdUGZOo1Afw3AQO2dyb88x1jB8w2HQZB6uEGsv47BoTk+wo9E/EBc2BTB+7wcwKQbmUHV1lNBFxY3QFQIZ0HPg71Bpdd9QB4Ay0FjmaQ/UYiVP9+4CT9lEZVBwByiQfXNWUHUtElAmJqRP4j/rb+JzilB/vVGwgjQSUFErWXBGvhHQcEWQEFnHhHAXSX3QHkLvEGN0h3CUXZbQbXugEFPCLi+drMrwUv0tUHwGZ3BaQ1YQe50uMDnOiTCQyzYQLHdWkF6as7AAVuDQXYCRUEmmSTCflkRwf4ct0HcMSPBMKgGwS48U8Df/G7BGcqywT10tUE2ht1AxshEQYUdA8EADpxA+3/MQd1lsUEgBJBBLAe7QU9Bl8HSogBBClo9wWd7DkHZGmPAiyG7wCHSYkGB5HlBUJuEwW3UOkG4GtJBq7qzQQd+SEHcqnRBe0H/QLop6MClPzdAmQPEP+zY3UD8b0TCY819wc9YOsEzJDLBsQluQVB51UGZ+srAdklqQbQtBcGBNSLCmPLJv6hMdEEJTrRBbUjrQecVh0CTqsVBLEySQK3B60HRpULCdYfCQa8ul8H18SHC9lxXQVMCRML4OzbC5z5wwDyww8DokhlBu47VwDJjWEE3zU7AjsQxQSzxjUC8A6RA/nrCwKOOoECoMynC4z4iwgTrGEGd67rA4vIgwT5nQsKfTTfCiWMHQRioR7/Mv6RBaVJQwdbxFUE=",
          "dtype": "f4"
         },
         "xaxis": "x",
         "y": {
          "bdata": "n+UUQPJ/k0AN/7dAl/RmQRWVREFFfgtB4lkBQErPakGO9qnATizbwIE1jsACa2xBf0XmQDkykUBy09k/PvzDvx64RkHkg9PAqLQxP8VpQUEKoV5BLT0uwTCvnkFyXQa//+MuwHR9u0CWrJ5Ax4+sQDfZakFlvZxBJdkqQcW9AMHS+V7A4Mz7wB5SCL8nQ4zBCkCmQFnapkA6dBrAsMK2wMlkpUCtyTFB4NIhwP+fmcH9wtNAI/WOQcaVNED8c4TBV3dIQQA3FkE9kTVBXP9LQZmb50AviJXBQxxnQahKFEG2iY9A1luGwZtPs8F5GolBHzK8QWeRB8GKiaTAl5i3QU82yECec61A4gmIQe3aHcBOKJXA9t0HQZm+H0Cgm3BBvH+WwAx8D0FQmh/BHSskv1FZS8FdmJ5BetFCwbqEPcHizB6+TaOKQSwjpcDWiStBM1S9wL97Y0GSJI0+eXE4wbwab8AzGBfBpN40wTGwMkFbZhRB22UAP/FOP8A4Tq7AZfSGv3uz6j+lE5/BiMX6QN2Yc8HDaJrAbUsXQa5gbsHR60DB7zxZQUwnv0AlvYFBrymDQSevecFUI63A+pUTwd9b3MCkCCzBhtOJQO5PQcHXGhfBK4sav6UrjL9yzphBaN4VQOi3hUEuNmJADlyoP2GxFMBYbLNBCWkhwQmtFEG5GJLBDY0WwRgg/cBjcPJABPWDwTzR7kBIDzVBvuJiweBmD8EEbSLB2+UfQa+vbEHQNMg/kjCDQZwGicGyVCDBxGZ8wZ74L0EYqArBcHUxwT0kTUGubMfAM7aDwcWMs0H9uwNAbe1BQLN+jEFh2mjB8cMqQRNKqMApjoDAXxynwWXcV0AG+ajA0bqpQSW7AEHl/+A/0mpcP7IJFkEfXzDBFvF8QTKEaD8hBkjAreBLQRceDMHkMfc/9zTlQEA4xz/DEATBodQ/wJJkZMEKZXbB6oVUPmpiwcCAIx7BoLWawQ67gMGZo6jB/d8KwTqWJMFiPpDAViCawBb4dsGAeR9BQWG9wBn7KjwdqtvAKHpEwR54OMGc/DPBm4nUQCWqw0A=",
          "dtype": "f4"
         },
         "yaxis": "y"
        }
       ],
       "layout": {
        "legend": {
         "tracegroupgap": 0
        },
        "margin": {
         "t": 60
        },
        "template": {
         "data": {
          "bar": [
           {
            "error_x": {
             "color": "#2a3f5f"
            },
            "error_y": {
             "color": "#2a3f5f"
            },
            "marker": {
             "line": {
              "color": "#E5ECF6",
              "width": 0.5
             },
             "pattern": {
              "fillmode": "overlay",
              "size": 10,
              "solidity": 0.2
             }
            },
            "type": "bar"
           }
          ],
          "barpolar": [
           {
            "marker": {
             "line": {
              "color": "#E5ECF6",
              "width": 0.5
             },
             "pattern": {
              "fillmode": "overlay",
              "size": 10,
              "solidity": 0.2
             }
            },
            "type": "barpolar"
           }
          ],
          "carpet": [
           {
            "aaxis": {
             "endlinecolor": "#2a3f5f",
             "gridcolor": "white",
             "linecolor": "white",
             "minorgridcolor": "white",
             "startlinecolor": "#2a3f5f"
            },
            "baxis": {
             "endlinecolor": "#2a3f5f",
             "gridcolor": "white",
             "linecolor": "white",
             "minorgridcolor": "white",
             "startlinecolor": "#2a3f5f"
            },
            "type": "carpet"
           }
          ],
          "choropleth": [
           {
            "colorbar": {
             "outlinewidth": 0,
             "ticks": ""
            },
            "type": "choropleth"
           }
          ],
          "contour": [
           {
            "colorbar": {
             "outlinewidth": 0,
             "ticks": ""
            },
            "colorscale": [
             [
              0,
              "#0d0887"
             ],
             [
              0.1111111111111111,
              "#46039f"
             ],
             [
              0.2222222222222222,
              "#7201a8"
             ],
             [
              0.3333333333333333,
              "#9c179e"
             ],
             [
              0.4444444444444444,
              "#bd3786"
             ],
             [
              0.5555555555555556,
              "#d8576b"
             ],
             [
              0.6666666666666666,
              "#ed7953"
             ],
             [
              0.7777777777777778,
              "#fb9f3a"
             ],
             [
              0.8888888888888888,
              "#fdca26"
             ],
             [
              1,
              "#f0f921"
             ]
            ],
            "type": "contour"
           }
          ],
          "contourcarpet": [
           {
            "colorbar": {
             "outlinewidth": 0,
             "ticks": ""
            },
            "type": "contourcarpet"
           }
          ],
          "heatmap": [
           {
            "colorbar": {
             "outlinewidth": 0,
             "ticks": ""
            },
            "colorscale": [
             [
              0,
              "#0d0887"
             ],
             [
              0.1111111111111111,
              "#46039f"
             ],
             [
              0.2222222222222222,
              "#7201a8"
             ],
             [
              0.3333333333333333,
              "#9c179e"
             ],
             [
              0.4444444444444444,
              "#bd3786"
             ],
             [
              0.5555555555555556,
              "#d8576b"
             ],
             [
              0.6666666666666666,
              "#ed7953"
             ],
             [
              0.7777777777777778,
              "#fb9f3a"
             ],
             [
              0.8888888888888888,
              "#fdca26"
             ],
             [
              1,
              "#f0f921"
             ]
            ],
            "type": "heatmap"
           }
          ],
          "histogram": [
           {
            "marker": {
             "pattern": {
              "fillmode": "overlay",
              "size": 10,
              "solidity": 0.2
             }
            },
            "type": "histogram"
           }
          ],
          "histogram2d": [
           {
            "colorbar": {
             "outlinewidth": 0,
             "ticks": ""
            },
            "colorscale": [
             [
              0,
              "#0d0887"
             ],
             [
              0.1111111111111111,
              "#46039f"
             ],
             [
              0.2222222222222222,
              "#7201a8"
             ],
             [
              0.3333333333333333,
              "#9c179e"
             ],
             [
              0.4444444444444444,
              "#bd3786"
             ],
             [
              0.5555555555555556,
              "#d8576b"
             ],
             [
              0.6666666666666666,
              "#ed7953"
             ],
             [
              0.7777777777777778,
              "#fb9f3a"
             ],
             [
              0.8888888888888888,
              "#fdca26"
             ],
             [
              1,
              "#f0f921"
             ]
            ],
            "type": "histogram2d"
           }
          ],
          "histogram2dcontour": [
           {
            "colorbar": {
             "outlinewidth": 0,
             "ticks": ""
            },
            "colorscale": [
             [
              0,
              "#0d0887"
             ],
             [
              0.1111111111111111,
              "#46039f"
             ],
             [
              0.2222222222222222,
              "#7201a8"
             ],
             [
              0.3333333333333333,
              "#9c179e"
             ],
             [
              0.4444444444444444,
              "#bd3786"
             ],
             [
              0.5555555555555556,
              "#d8576b"
             ],
             [
              0.6666666666666666,
              "#ed7953"
             ],
             [
              0.7777777777777778,
              "#fb9f3a"
             ],
             [
              0.8888888888888888,
              "#fdca26"
             ],
             [
              1,
              "#f0f921"
             ]
            ],
            "type": "histogram2dcontour"
           }
          ],
          "mesh3d": [
           {
            "colorbar": {
             "outlinewidth": 0,
             "ticks": ""
            },
            "type": "mesh3d"
           }
          ],
          "parcoords": [
           {
            "line": {
             "colorbar": {
              "outlinewidth": 0,
              "ticks": ""
             }
            },
            "type": "parcoords"
           }
          ],
          "pie": [
           {
            "automargin": true,
            "type": "pie"
           }
          ],
          "scatter": [
           {
            "fillpattern": {
             "fillmode": "overlay",
             "size": 10,
             "solidity": 0.2
            },
            "type": "scatter"
           }
          ],
          "scatter3d": [
           {
            "line": {
             "colorbar": {
              "outlinewidth": 0,
              "ticks": ""
             }
            },
            "marker": {
             "colorbar": {
              "outlinewidth": 0,
              "ticks": ""
             }
            },
            "type": "scatter3d"
           }
          ],
          "scattercarpet": [
           {
            "marker": {
             "colorbar": {
              "outlinewidth": 0,
              "ticks": ""
             }
            },
            "type": "scattercarpet"
           }
          ],
          "scattergeo": [
           {
            "marker": {
             "colorbar": {
              "outlinewidth": 0,
              "ticks": ""
             }
            },
            "type": "scattergeo"
           }
          ],
          "scattergl": [
           {
            "marker": {
             "colorbar": {
              "outlinewidth": 0,
              "ticks": ""
             }
            },
            "type": "scattergl"
           }
          ],
          "scattermap": [
           {
            "marker": {
             "colorbar": {
              "outlinewidth": 0,
              "ticks": ""
             }
            },
            "type": "scattermap"
           }
          ],
          "scattermapbox": [
           {
            "marker": {
             "colorbar": {
              "outlinewidth": 0,
              "ticks": ""
             }
            },
            "type": "scattermapbox"
           }
          ],
          "scatterpolar": [
           {
            "marker": {
             "colorbar": {
              "outlinewidth": 0,
              "ticks": ""
             }
            },
            "type": "scatterpolar"
           }
          ],
          "scatterpolargl": [
           {
            "marker": {
             "colorbar": {
              "outlinewidth": 0,
              "ticks": ""
             }
            },
            "type": "scatterpolargl"
           }
          ],
          "scatterternary": [
           {
            "marker": {
             "colorbar": {
              "outlinewidth": 0,
              "ticks": ""
             }
            },
            "type": "scatterternary"
           }
          ],
          "surface": [
           {
            "colorbar": {
             "outlinewidth": 0,
             "ticks": ""
            },
            "colorscale": [
             [
              0,
              "#0d0887"
             ],
             [
              0.1111111111111111,
              "#46039f"
             ],
             [
              0.2222222222222222,
              "#7201a8"
             ],
             [
              0.3333333333333333,
              "#9c179e"
             ],
             [
              0.4444444444444444,
              "#bd3786"
             ],
             [
              0.5555555555555556,
              "#d8576b"
             ],
             [
              0.6666666666666666,
              "#ed7953"
             ],
             [
              0.7777777777777778,
              "#fb9f3a"
             ],
             [
              0.8888888888888888,
              "#fdca26"
             ],
             [
              1,
              "#f0f921"
             ]
            ],
            "type": "surface"
           }
          ],
          "table": [
           {
            "cells": {
             "fill": {
              "color": "#EBF0F8"
             },
             "line": {
              "color": "white"
             }
            },
            "header": {
             "fill": {
              "color": "#C8D4E3"
             },
             "line": {
              "color": "white"
             }
            },
            "type": "table"
           }
          ]
         },
         "layout": {
          "annotationdefaults": {
           "arrowcolor": "#2a3f5f",
           "arrowhead": 0,
           "arrowwidth": 1
          },
          "autotypenumbers": "strict",
          "coloraxis": {
           "colorbar": {
            "outlinewidth": 0,
            "ticks": ""
           }
          },
          "colorscale": {
           "diverging": [
            [
             0,
             "#8e0152"
            ],
            [
             0.1,
             "#c51b7d"
            ],
            [
             0.2,
             "#de77ae"
            ],
            [
             0.3,
             "#f1b6da"
            ],
            [
             0.4,
             "#fde0ef"
            ],
            [
             0.5,
             "#f7f7f7"
            ],
            [
             0.6,
             "#e6f5d0"
            ],
            [
             0.7,
             "#b8e186"
            ],
            [
             0.8,
             "#7fbc41"
            ],
            [
             0.9,
             "#4d9221"
            ],
            [
             1,
             "#276419"
            ]
           ],
           "sequential": [
            [
             0,
             "#0d0887"
            ],
            [
             0.1111111111111111,
             "#46039f"
            ],
            [
             0.2222222222222222,
             "#7201a8"
            ],
            [
             0.3333333333333333,
             "#9c179e"
            ],
            [
             0.4444444444444444,
             "#bd3786"
            ],
            [
             0.5555555555555556,
             "#d8576b"
            ],
            [
             0.6666666666666666,
             "#ed7953"
            ],
            [
             0.7777777777777778,
             "#fb9f3a"
            ],
            [
             0.8888888888888888,
             "#fdca26"
            ],
            [
             1,
             "#f0f921"
            ]
           ],
           "sequentialminus": [
            [
             0,
             "#0d0887"
            ],
            [
             0.1111111111111111,
             "#46039f"
            ],
            [
             0.2222222222222222,
             "#7201a8"
            ],
            [
             0.3333333333333333,
             "#9c179e"
            ],
            [
             0.4444444444444444,
             "#bd3786"
            ],
            [
             0.5555555555555556,
             "#d8576b"
            ],
            [
             0.6666666666666666,
             "#ed7953"
            ],
            [
             0.7777777777777778,
             "#fb9f3a"
            ],
            [
             0.8888888888888888,
             "#fdca26"
            ],
            [
             1,
             "#f0f921"
            ]
           ]
          },
          "colorway": [
           "#636efa",
           "#EF553B",
           "#00cc96",
           "#ab63fa",
           "#FFA15A",
           "#19d3f3",
           "#FF6692",
           "#B6E880",
           "#FF97FF",
           "#FECB52"
          ],
          "font": {
           "color": "#2a3f5f"
          },
          "geo": {
           "bgcolor": "white",
           "lakecolor": "white",
           "landcolor": "#E5ECF6",
           "showlakes": true,
           "showland": true,
           "subunitcolor": "white"
          },
          "hoverlabel": {
           "align": "left"
          },
          "hovermode": "closest",
          "mapbox": {
           "style": "light"
          },
          "paper_bgcolor": "white",
          "plot_bgcolor": "#E5ECF6",
          "polar": {
           "angularaxis": {
            "gridcolor": "white",
            "linecolor": "white",
            "ticks": ""
           },
           "bgcolor": "#E5ECF6",
           "radialaxis": {
            "gridcolor": "white",
            "linecolor": "white",
            "ticks": ""
           }
          },
          "scene": {
           "xaxis": {
            "backgroundcolor": "#E5ECF6",
            "gridcolor": "white",
            "gridwidth": 2,
            "linecolor": "white",
            "showbackground": true,
            "ticks": "",
            "zerolinecolor": "white"
           },
           "yaxis": {
            "backgroundcolor": "#E5ECF6",
            "gridcolor": "white",
            "gridwidth": 2,
            "linecolor": "white",
            "showbackground": true,
            "ticks": "",
            "zerolinecolor": "white"
           },
           "zaxis": {
            "backgroundcolor": "#E5ECF6",
            "gridcolor": "white",
            "gridwidth": 2,
            "linecolor": "white",
            "showbackground": true,
            "ticks": "",
            "zerolinecolor": "white"
           }
          },
          "shapedefaults": {
           "line": {
            "color": "#2a3f5f"
           }
          },
          "ternary": {
           "aaxis": {
            "gridcolor": "white",
            "linecolor": "white",
            "ticks": ""
           },
           "baxis": {
            "gridcolor": "white",
            "linecolor": "white",
            "ticks": ""
           },
           "bgcolor": "#E5ECF6",
           "caxis": {
            "gridcolor": "white",
            "linecolor": "white",
            "ticks": ""
           }
          },
          "title": {
           "x": 0.05
          },
          "xaxis": {
           "automargin": true,
           "gridcolor": "white",
           "linecolor": "white",
           "ticks": "",
           "title": {
            "standoff": 15
           },
           "zerolinecolor": "white",
           "zerolinewidth": 2
          },
          "yaxis": {
           "automargin": true,
           "gridcolor": "white",
           "linecolor": "white",
           "ticks": "",
           "title": {
            "standoff": 15
           },
           "zerolinecolor": "white",
           "zerolinewidth": 2
          }
         }
        },
        "xaxis": {
         "anchor": "y",
         "domain": [
          0,
          1
         ],
         "title": {
          "text": "x"
         }
        },
        "yaxis": {
         "anchor": "x",
         "domain": [
          0,
          1
         ],
         "title": {
          "text": "y"
         }
        }
       }
      }
     },
     "metadata": {},
     "output_type": "display_data"
    }
   ],
   "source": [
    "# Graficar los embedddings en 2D\n",
    "import plotly.graph_objects as go\n",
    "import plotly.express as px\n",
    "\n",
    "vecs, labels = reduce_dimensions(w2v_model)\n",
    "\n",
    "MAX_WORDS=200\n",
    "fig = px.scatter(x=vecs[:MAX_WORDS,0], y=vecs[:MAX_WORDS,1], text=labels[:MAX_WORDS])\n",
    "fig.show() # esto para plotly en colab"
   ]
  },
  {
   "cell_type": "markdown",
   "id": "54a36677",
   "metadata": {},
   "source": [
    "Algunas relaciones mostradas son esperables como \"my\", \"your\" y \"body\" alrededor de Y 15 ,X -7. Tambien se puede destacar como palabras en español estan todas agrupadas en un conojunto separadas del resto."
   ]
  },
  {
   "cell_type": "code",
   "execution_count": 20,
   "id": "08ac11c7",
   "metadata": {},
   "outputs": [
    {
     "data": {
      "application/vnd.plotly.v1+json": {
       "config": {
        "plotlyServerURL": "https://plot.ly"
       },
       "data": [
        {
         "hovertemplate": "x=%{x}<br>y=%{y}<br>z=%{z}<br>text=%{text}<extra></extra>",
         "legendgroup": "",
         "marker": {
          "color": "#636efa",
          "size": 2,
          "symbol": "circle"
         },
         "mode": "markers+text",
         "name": "",
         "scene": "scene",
         "showlegend": false,
         "text": [
          "you",
          "i",
          "the",
          "me",
          "it",
          "to",
          "oh",
          "my",
          "and",
          "a",
          "for",
          "yeah",
          "in",
          "on",
          "so",
          "up",
          "what",
          "all",
          "i'm",
          "like",
          "your",
          "that",
          "got",
          "don't",
          "no",
          "know",
          "just",
          "we",
          "her",
          "is",
          "do",
          "baby",
          "be",
          "girl",
          "but",
          "she",
          "it's",
          "this",
          "when",
          "you're",
          "if",
          "of",
          "'cause",
          "go",
          "take",
          "now",
          "can",
          "with",
          "out",
          "are",
          "love",
          "that's",
          "way",
          "get",
          "see",
          "make",
          "say",
          "i'll",
          "time",
          "here",
          "too",
          "one",
          "tell",
          "long",
          "can't",
          "feel",
          "come",
          "night",
          "ooh",
          "wanna",
          "never",
          "been",
          "que",
          "show",
          "down",
          "at",
          "better",
          "gimme",
          "where",
          "more",
          "want",
          "back",
          "only",
          "look",
          "right",
          "uh",
          "give",
          "run",
          "ain't",
          "there",
          "we're",
          "again",
          "ah",
          "estoy",
          "gonna",
          "oo",
          "they",
          "cause",
          "every",
          "how",
          "have",
          "tan",
          "why",
          "was",
          "while",
          "our",
          "let",
          "looking",
          "money",
          "today",
          "es",
          "day",
          "thing",
          "will",
          "could",
          "not",
          "ya",
          "straight",
          "need",
          "good",
          "put",
          "home",
          "fire",
          "girls",
          "won't",
          "watch",
          "there's",
          "eyes",
          "did",
          "leave",
          "hey",
          "think",
          "some",
          "she's",
          "let's",
          "world",
          "would",
          "turn",
          "dance",
          "smile",
          "you'll",
          "i've",
          "i'd",
          "try",
          "tonight",
          "gotta",
          "wait",
          "us",
          "body",
          "before",
          "knows",
          "believe",
          "perdiendo",
          "feels",
          "new",
          "whole",
          "find",
          "lonely",
          "through",
          "little",
          "mind",
          "difícil",
          "hard",
          "stay",
          "ever",
          "uptown",
          "trying",
          "always",
          "off",
          "funk",
          "yo",
          "lucky",
          "pain",
          "esta",
          "same",
          "mi",
          "estamos",
          "them",
          "life",
          "tomorrow",
          "keep",
          "change",
          "around",
          "alright",
          "away",
          "slow",
          "heart",
          "man",
          "y",
          "estás",
          "ok",
          "mirror",
          "lights",
          "de",
          "pero",
          "place",
          "kiss",
          "runaway",
          "head",
          "then"
         ],
         "type": "scatter3d",
         "x": {
          "bdata": "qmrmQQoU7kGAIGPBJoSRQVTf10C7ETlAbe8TQrHbxMFCVrnAgmplQdYGCsEQyNbApPyEwc1xwcEUk+NAb15EwYqU+kFvkyrBLKbJwfPdxEHNpL/Bh2OOQVZMFcBe9vJB6tQOQlf73UEWuI5BBY61QUqqDUHtGv7ADkWKQOQOpUFjUHFBQCoRQXwHxkGWTyFB4qJHQeWUI8B5TWFBSmHGQcigGkIJeLbBgOvtQc0QBkG7qNy/10MxQdrwFkI66eJAd1Scwd/mKEJwErpB1KEKQrJXLsEAD1dAG2wTQq2N4kGXMCBCFhw/Qew/ycCcnVJBrQJNwYjkTMHMiqZBfYfxwOIypUEJzhdBpVQzQRyRVD8MqtTBaQf1QXwm+EH/KEFADGs/wn/hJUFW8j/B/29xwXPhh0E64z1AwFXDQfNn8kEe8exB+8S5QBe48kGm5CDBnLkQQdbWSsGxPDBBh9uJQW8L00Hg+bs/CZhSwMVo1sDex79BpGY/wpRN20E5DgbCNcSTQQ1a0kFy64g/UfkLQTn5a0FkZfnBWIW5QVix/UFae3W/H1uKwRnd/kEm7BbA7mkKwA6U5MBaagbCd2yhQdyex0F5LY8/o4PAQaT8wEG+UTjCTkCdwTb3DUJiUkBBoJyewUoGicEltszBYOBbwZp/EkIl7D9Cw0izQZ2uZL+botpAMl/mQZ/g68F5DRNCmfJ0Qc2rkcFaPJtA0YSTwVv/i0ErfmpBvXmnwPRzT0Ak1MxBn6AAQcCen0EWEvlBjMY/QZAFjUF/L/BB3WpNQQMZusGk4BxBZYKnwceTPUKtu13C34S2wbevn8FSCafBC02RQbVz4UEHPTzBaLBVwHzQZcGRVPzBILPPP9/6xkFb5QRC3WL1QSuqicC1BxdCqcymQKjI/kHdMCTCpqsIQjqdRsGdwA/CJwjeQeLZVcLUuA/CcvUswT/9Z8F9tTdBh7eDwQVGt0GJA31BvlvxwWudPUAqg0JBUWFvv3Kco0DitAzC6kzvwZcvIkE7cgjBx9ecwWibTMJyowrC5+iLQSXZA0AKcpdBreXXwdM9WEE=",
          "dtype": "f4"
         },
         "y": {
          "bdata": "Kf6BQfB7LUATb15Bft+fQWhE3EHavapBvjGkQcG0okGQY4zBgnmCwYHDW79yQeFB9dhOwbZ8zECIjDpBcb6wQcpO8UBuUYfBf8cswemmRkEfoatB2faFwKPQE0IzvTFBBX8eQfr3mcBbwEVBIijiQbCTGcGhTGVA4cLCQQ9VkUFarobBdIoNws5O1T+NWJjB7JKEQYexVUACZTtADvEhwRUJ5kDs3n3AJCqdQUA7R8HlATZBewfmwB4z1b+GWM/BrzvzQGZ6rUCzJJ1BGxJ7QSWaqEGGWfDBU43twMtfGUHs2oNB3TIBwl9EVEAFy8nBBSB/QYadwcEOdYJBinuMQdEuwz9MWMtBFQE/QUEOtUHvrIFBTRqFwBVsKcEiB4w/aFnqwAE3pEFvANDBjueNPk2fCEKnmBlCX+kBwhdKssEkHY2/HZDpQIxVC8FGNaRBm9N4wfphvUESpr1Bd8jmQRhwn0CZ9wbCxeXcwQhEYMHipKbBRffWQGOpXUGFj5lB27EiQYDzV8ECfQ9BQquBQTm1BEIKVrHBwz8Dwf8hAsHQoLTB8RqLQZaCcUExIr7Adu4QQpNnBcLtrozB/WuawY1oEb+F0dDBT9oDQcFwpT8OqGfBafF2QV6/pr0W3Z5BTRVbQb4FCkJi4na/Zt3IQfzHOEAR8K0/Ld+ZwTfe2sDhuJXB9GKqwQ6sh0HKuW/AK0P1QYblE0EvKO9BYoVfwWOLFcGhWZJB+sUWws2hD0Kj36JBLOdWwMpj+MGcXKPBK47TQZrymMCgjBHBwc3AwX7MtkHNr7DB+kLGwel3PkAGVya+TNwawPSAv0GlzBLBUWUewSOU9MC1X0zB0Z42wem7CkHzzKvB57eAQb+qi8D331bBChjcQVVa0EFa/53BKKxzQUi53EFkL6RAphpLQUcFosFH/3LA1ri8wdNRcEBJvu9A1lVwQf3V78HyIvDBVgSfQc/8q8Acn3BBSvvPQZ0ig8GxfLjA1B6dwfhQlsEkF1nBM52Nwd1kA8IgHhTC3uKfwaIlxb/4h7tA2+fUwcNP3cGAHsxBhXtLwQiogUE=",
          "dtype": "f4"
         },
         "z": {
          "bdata": "RApXwH9cU8EkygfB9z9JwXXXW0CDamHBBPP1QMtfjUEDB0e/bA8uQdlL2UGUfUlBUg2QwQvnp8G1ENVBJxzjwQfYoMEVkM1AKWXRwZeG5sH1fVFBsgHLQQ3Kpj8JPNNABN1XQZzUusBetiTBZHXKwMxFCsLPrgtC+k6FwH9iaUEZfx/ASY9oQZElSL/EF9pBFEqSQfJ/g0FvW7DBunLUQe34UsBAYsVB8LaVQZDJBUJ+20/BSoKKwWlAMz/YrSNBZ3KfQWKTh8H377zBVdHIwfb2VcG98LvByylyQcdJiEE1pY7AwFEzQJdjFMI7Fq7B0lnCQQ8Ap0EJuMK/SXYAQizEecFDc7pBKOiewVQRhUG+bBTAeLKdwVmBS8EZuuZBkIslQUoU+8AnjrzAFTjAwTJPGUF/WCLAf9B7wPiGgkGiiBJBXEu8wSrfn0Hptqo/8e+FwcwnNkHXHKLBiqlIQWAR0EFJ5TNASTRCQV6erMET4MjBNWkZv0in4kGFaRLAOCqoQSe7+78T1ArC+1c6wcQ2GMHza6NA+aqmwc8Lt7yOsJBB9pqBvx57JsGAP8xByi01wYoXg8E1EFhBaavIQRUqlUHyFSXBscFuwcQ/8cGI2Q7BnLDfwYvpCUFDpfTBCUF7wWf2Vj/+28PBPuirQas4aUFCVDfALbqBQZxg98GrfQlCGE8BwQKoYsFRPnrBqnl/wdENM0E0RztBnw4PQQ4lmEFJ6AFC1UCUwEjTQ8EKXR/B5lnMQRuytEAO4ljB+eAswSMyt8GjsQZBmvOLQUchsUA4v0vB8cW9wTGBVDzMX6Y/oBrxwbiwEcFXFCtBNpZXwW+hwUH45HDAaTwJQlmfjME1NTpBdOTjQVHnYcHtfwPBasyMQJ1eMsEuiQbBmzXBwa5/Oz85/u3AsZy9wW4vvkEUsG1BfOcBP39+iL9hcYNAeYKAQX9ufMHM8inAseqqwUcShUER+PFBYP4HwN+j2UHfMhNCbpFwwRfOkMCM/RtB8HAYQSALicCuRYDAVIoAwcA5q0AYgzrAmvtCQV+sn0FWK2JB7ZR3wYm2XsA=",
          "dtype": "f4"
         }
        }
       ],
       "layout": {
        "legend": {
         "tracegroupgap": 0
        },
        "margin": {
         "t": 60
        },
        "scene": {
         "domain": {
          "x": [
           0,
           1
          ],
          "y": [
           0,
           1
          ]
         },
         "xaxis": {
          "title": {
           "text": "x"
          }
         },
         "yaxis": {
          "title": {
           "text": "y"
          }
         },
         "zaxis": {
          "title": {
           "text": "z"
          }
         }
        },
        "template": {
         "data": {
          "bar": [
           {
            "error_x": {
             "color": "#2a3f5f"
            },
            "error_y": {
             "color": "#2a3f5f"
            },
            "marker": {
             "line": {
              "color": "#E5ECF6",
              "width": 0.5
             },
             "pattern": {
              "fillmode": "overlay",
              "size": 10,
              "solidity": 0.2
             }
            },
            "type": "bar"
           }
          ],
          "barpolar": [
           {
            "marker": {
             "line": {
              "color": "#E5ECF6",
              "width": 0.5
             },
             "pattern": {
              "fillmode": "overlay",
              "size": 10,
              "solidity": 0.2
             }
            },
            "type": "barpolar"
           }
          ],
          "carpet": [
           {
            "aaxis": {
             "endlinecolor": "#2a3f5f",
             "gridcolor": "white",
             "linecolor": "white",
             "minorgridcolor": "white",
             "startlinecolor": "#2a3f5f"
            },
            "baxis": {
             "endlinecolor": "#2a3f5f",
             "gridcolor": "white",
             "linecolor": "white",
             "minorgridcolor": "white",
             "startlinecolor": "#2a3f5f"
            },
            "type": "carpet"
           }
          ],
          "choropleth": [
           {
            "colorbar": {
             "outlinewidth": 0,
             "ticks": ""
            },
            "type": "choropleth"
           }
          ],
          "contour": [
           {
            "colorbar": {
             "outlinewidth": 0,
             "ticks": ""
            },
            "colorscale": [
             [
              0,
              "#0d0887"
             ],
             [
              0.1111111111111111,
              "#46039f"
             ],
             [
              0.2222222222222222,
              "#7201a8"
             ],
             [
              0.3333333333333333,
              "#9c179e"
             ],
             [
              0.4444444444444444,
              "#bd3786"
             ],
             [
              0.5555555555555556,
              "#d8576b"
             ],
             [
              0.6666666666666666,
              "#ed7953"
             ],
             [
              0.7777777777777778,
              "#fb9f3a"
             ],
             [
              0.8888888888888888,
              "#fdca26"
             ],
             [
              1,
              "#f0f921"
             ]
            ],
            "type": "contour"
           }
          ],
          "contourcarpet": [
           {
            "colorbar": {
             "outlinewidth": 0,
             "ticks": ""
            },
            "type": "contourcarpet"
           }
          ],
          "heatmap": [
           {
            "colorbar": {
             "outlinewidth": 0,
             "ticks": ""
            },
            "colorscale": [
             [
              0,
              "#0d0887"
             ],
             [
              0.1111111111111111,
              "#46039f"
             ],
             [
              0.2222222222222222,
              "#7201a8"
             ],
             [
              0.3333333333333333,
              "#9c179e"
             ],
             [
              0.4444444444444444,
              "#bd3786"
             ],
             [
              0.5555555555555556,
              "#d8576b"
             ],
             [
              0.6666666666666666,
              "#ed7953"
             ],
             [
              0.7777777777777778,
              "#fb9f3a"
             ],
             [
              0.8888888888888888,
              "#fdca26"
             ],
             [
              1,
              "#f0f921"
             ]
            ],
            "type": "heatmap"
           }
          ],
          "histogram": [
           {
            "marker": {
             "pattern": {
              "fillmode": "overlay",
              "size": 10,
              "solidity": 0.2
             }
            },
            "type": "histogram"
           }
          ],
          "histogram2d": [
           {
            "colorbar": {
             "outlinewidth": 0,
             "ticks": ""
            },
            "colorscale": [
             [
              0,
              "#0d0887"
             ],
             [
              0.1111111111111111,
              "#46039f"
             ],
             [
              0.2222222222222222,
              "#7201a8"
             ],
             [
              0.3333333333333333,
              "#9c179e"
             ],
             [
              0.4444444444444444,
              "#bd3786"
             ],
             [
              0.5555555555555556,
              "#d8576b"
             ],
             [
              0.6666666666666666,
              "#ed7953"
             ],
             [
              0.7777777777777778,
              "#fb9f3a"
             ],
             [
              0.8888888888888888,
              "#fdca26"
             ],
             [
              1,
              "#f0f921"
             ]
            ],
            "type": "histogram2d"
           }
          ],
          "histogram2dcontour": [
           {
            "colorbar": {
             "outlinewidth": 0,
             "ticks": ""
            },
            "colorscale": [
             [
              0,
              "#0d0887"
             ],
             [
              0.1111111111111111,
              "#46039f"
             ],
             [
              0.2222222222222222,
              "#7201a8"
             ],
             [
              0.3333333333333333,
              "#9c179e"
             ],
             [
              0.4444444444444444,
              "#bd3786"
             ],
             [
              0.5555555555555556,
              "#d8576b"
             ],
             [
              0.6666666666666666,
              "#ed7953"
             ],
             [
              0.7777777777777778,
              "#fb9f3a"
             ],
             [
              0.8888888888888888,
              "#fdca26"
             ],
             [
              1,
              "#f0f921"
             ]
            ],
            "type": "histogram2dcontour"
           }
          ],
          "mesh3d": [
           {
            "colorbar": {
             "outlinewidth": 0,
             "ticks": ""
            },
            "type": "mesh3d"
           }
          ],
          "parcoords": [
           {
            "line": {
             "colorbar": {
              "outlinewidth": 0,
              "ticks": ""
             }
            },
            "type": "parcoords"
           }
          ],
          "pie": [
           {
            "automargin": true,
            "type": "pie"
           }
          ],
          "scatter": [
           {
            "fillpattern": {
             "fillmode": "overlay",
             "size": 10,
             "solidity": 0.2
            },
            "type": "scatter"
           }
          ],
          "scatter3d": [
           {
            "line": {
             "colorbar": {
              "outlinewidth": 0,
              "ticks": ""
             }
            },
            "marker": {
             "colorbar": {
              "outlinewidth": 0,
              "ticks": ""
             }
            },
            "type": "scatter3d"
           }
          ],
          "scattercarpet": [
           {
            "marker": {
             "colorbar": {
              "outlinewidth": 0,
              "ticks": ""
             }
            },
            "type": "scattercarpet"
           }
          ],
          "scattergeo": [
           {
            "marker": {
             "colorbar": {
              "outlinewidth": 0,
              "ticks": ""
             }
            },
            "type": "scattergeo"
           }
          ],
          "scattergl": [
           {
            "marker": {
             "colorbar": {
              "outlinewidth": 0,
              "ticks": ""
             }
            },
            "type": "scattergl"
           }
          ],
          "scattermap": [
           {
            "marker": {
             "colorbar": {
              "outlinewidth": 0,
              "ticks": ""
             }
            },
            "type": "scattermap"
           }
          ],
          "scattermapbox": [
           {
            "marker": {
             "colorbar": {
              "outlinewidth": 0,
              "ticks": ""
             }
            },
            "type": "scattermapbox"
           }
          ],
          "scatterpolar": [
           {
            "marker": {
             "colorbar": {
              "outlinewidth": 0,
              "ticks": ""
             }
            },
            "type": "scatterpolar"
           }
          ],
          "scatterpolargl": [
           {
            "marker": {
             "colorbar": {
              "outlinewidth": 0,
              "ticks": ""
             }
            },
            "type": "scatterpolargl"
           }
          ],
          "scatterternary": [
           {
            "marker": {
             "colorbar": {
              "outlinewidth": 0,
              "ticks": ""
             }
            },
            "type": "scatterternary"
           }
          ],
          "surface": [
           {
            "colorbar": {
             "outlinewidth": 0,
             "ticks": ""
            },
            "colorscale": [
             [
              0,
              "#0d0887"
             ],
             [
              0.1111111111111111,
              "#46039f"
             ],
             [
              0.2222222222222222,
              "#7201a8"
             ],
             [
              0.3333333333333333,
              "#9c179e"
             ],
             [
              0.4444444444444444,
              "#bd3786"
             ],
             [
              0.5555555555555556,
              "#d8576b"
             ],
             [
              0.6666666666666666,
              "#ed7953"
             ],
             [
              0.7777777777777778,
              "#fb9f3a"
             ],
             [
              0.8888888888888888,
              "#fdca26"
             ],
             [
              1,
              "#f0f921"
             ]
            ],
            "type": "surface"
           }
          ],
          "table": [
           {
            "cells": {
             "fill": {
              "color": "#EBF0F8"
             },
             "line": {
              "color": "white"
             }
            },
            "header": {
             "fill": {
              "color": "#C8D4E3"
             },
             "line": {
              "color": "white"
             }
            },
            "type": "table"
           }
          ]
         },
         "layout": {
          "annotationdefaults": {
           "arrowcolor": "#2a3f5f",
           "arrowhead": 0,
           "arrowwidth": 1
          },
          "autotypenumbers": "strict",
          "coloraxis": {
           "colorbar": {
            "outlinewidth": 0,
            "ticks": ""
           }
          },
          "colorscale": {
           "diverging": [
            [
             0,
             "#8e0152"
            ],
            [
             0.1,
             "#c51b7d"
            ],
            [
             0.2,
             "#de77ae"
            ],
            [
             0.3,
             "#f1b6da"
            ],
            [
             0.4,
             "#fde0ef"
            ],
            [
             0.5,
             "#f7f7f7"
            ],
            [
             0.6,
             "#e6f5d0"
            ],
            [
             0.7,
             "#b8e186"
            ],
            [
             0.8,
             "#7fbc41"
            ],
            [
             0.9,
             "#4d9221"
            ],
            [
             1,
             "#276419"
            ]
           ],
           "sequential": [
            [
             0,
             "#0d0887"
            ],
            [
             0.1111111111111111,
             "#46039f"
            ],
            [
             0.2222222222222222,
             "#7201a8"
            ],
            [
             0.3333333333333333,
             "#9c179e"
            ],
            [
             0.4444444444444444,
             "#bd3786"
            ],
            [
             0.5555555555555556,
             "#d8576b"
            ],
            [
             0.6666666666666666,
             "#ed7953"
            ],
            [
             0.7777777777777778,
             "#fb9f3a"
            ],
            [
             0.8888888888888888,
             "#fdca26"
            ],
            [
             1,
             "#f0f921"
            ]
           ],
           "sequentialminus": [
            [
             0,
             "#0d0887"
            ],
            [
             0.1111111111111111,
             "#46039f"
            ],
            [
             0.2222222222222222,
             "#7201a8"
            ],
            [
             0.3333333333333333,
             "#9c179e"
            ],
            [
             0.4444444444444444,
             "#bd3786"
            ],
            [
             0.5555555555555556,
             "#d8576b"
            ],
            [
             0.6666666666666666,
             "#ed7953"
            ],
            [
             0.7777777777777778,
             "#fb9f3a"
            ],
            [
             0.8888888888888888,
             "#fdca26"
            ],
            [
             1,
             "#f0f921"
            ]
           ]
          },
          "colorway": [
           "#636efa",
           "#EF553B",
           "#00cc96",
           "#ab63fa",
           "#FFA15A",
           "#19d3f3",
           "#FF6692",
           "#B6E880",
           "#FF97FF",
           "#FECB52"
          ],
          "font": {
           "color": "#2a3f5f"
          },
          "geo": {
           "bgcolor": "white",
           "lakecolor": "white",
           "landcolor": "#E5ECF6",
           "showlakes": true,
           "showland": true,
           "subunitcolor": "white"
          },
          "hoverlabel": {
           "align": "left"
          },
          "hovermode": "closest",
          "mapbox": {
           "style": "light"
          },
          "paper_bgcolor": "white",
          "plot_bgcolor": "#E5ECF6",
          "polar": {
           "angularaxis": {
            "gridcolor": "white",
            "linecolor": "white",
            "ticks": ""
           },
           "bgcolor": "#E5ECF6",
           "radialaxis": {
            "gridcolor": "white",
            "linecolor": "white",
            "ticks": ""
           }
          },
          "scene": {
           "xaxis": {
            "backgroundcolor": "#E5ECF6",
            "gridcolor": "white",
            "gridwidth": 2,
            "linecolor": "white",
            "showbackground": true,
            "ticks": "",
            "zerolinecolor": "white"
           },
           "yaxis": {
            "backgroundcolor": "#E5ECF6",
            "gridcolor": "white",
            "gridwidth": 2,
            "linecolor": "white",
            "showbackground": true,
            "ticks": "",
            "zerolinecolor": "white"
           },
           "zaxis": {
            "backgroundcolor": "#E5ECF6",
            "gridcolor": "white",
            "gridwidth": 2,
            "linecolor": "white",
            "showbackground": true,
            "ticks": "",
            "zerolinecolor": "white"
           }
          },
          "shapedefaults": {
           "line": {
            "color": "#2a3f5f"
           }
          },
          "ternary": {
           "aaxis": {
            "gridcolor": "white",
            "linecolor": "white",
            "ticks": ""
           },
           "baxis": {
            "gridcolor": "white",
            "linecolor": "white",
            "ticks": ""
           },
           "bgcolor": "#E5ECF6",
           "caxis": {
            "gridcolor": "white",
            "linecolor": "white",
            "ticks": ""
           }
          },
          "title": {
           "x": 0.05
          },
          "xaxis": {
           "automargin": true,
           "gridcolor": "white",
           "linecolor": "white",
           "ticks": "",
           "title": {
            "standoff": 15
           },
           "zerolinecolor": "white",
           "zerolinewidth": 2
          },
          "yaxis": {
           "automargin": true,
           "gridcolor": "white",
           "linecolor": "white",
           "ticks": "",
           "title": {
            "standoff": 15
           },
           "zerolinecolor": "white",
           "zerolinewidth": 2
          }
         }
        }
       }
      }
     },
     "metadata": {},
     "output_type": "display_data"
    }
   ],
   "source": [
    "# Graficar los embedddings en 3D\n",
    "\n",
    "vecs, labels = reduce_dimensions(w2v_model,3)\n",
    "\n",
    "fig = px.scatter_3d(x=vecs[:MAX_WORDS,0], y=vecs[:MAX_WORDS,1], z=vecs[:MAX_WORDS,2],text=labels[:MAX_WORDS])\n",
    "fig.update_traces(marker_size = 2)\n",
    "fig.show() # esto para plotly en colab"
   ]
  },
  {
   "cell_type": "code",
   "execution_count": 21,
   "id": "4228be47",
   "metadata": {},
   "outputs": [],
   "source": [
    "# También se pueden guardar los vectores y labels como tsv para graficar en\n",
    "# http://projector.tensorflow.org/\n",
    "\n",
    "\n",
    "vectors = np.asarray(w2v_model.wv.vectors)\n",
    "labels = list(w2v_model.wv.index_to_key)\n",
    "\n",
    "np.savetxt(\"vectors.tsv\", vectors, delimiter=\"\\t\")\n",
    "\n",
    "with open(\"labels.tsv\", \"w\") as fp:\n",
    "    for item in labels:\n",
    "        fp.write(\"%s\\n\" % item)"
   ]
  },
  {
   "cell_type": "markdown",
   "id": "7c1ccd78",
   "metadata": {},
   "source": [
    "Como conclusión podemos ver que la utilidad de usar canciones u otro tipo de textos que contenga secciones repetidas, como los estribillos, esta limitado por las fuertes relaciones que generan en palabras que no estan relacionadas en otros contextos."
   ]
  }
 ],
 "metadata": {
  "kernelspec": {
   "display_name": ".venv",
   "language": "python",
   "name": "python3"
  },
  "language_info": {
   "codemirror_mode": {
    "name": "ipython",
    "version": 3
   },
   "file_extension": ".py",
   "mimetype": "text/x-python",
   "name": "python",
   "nbconvert_exporter": "python",
   "pygments_lexer": "ipython3",
   "version": "3.11.9"
  }
 },
 "nbformat": 4,
 "nbformat_minor": 5
}
